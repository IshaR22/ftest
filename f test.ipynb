{
 "cells": [
  {
   "cell_type": "code",
   "execution_count": null,
   "id": "dce17aa1-5dfa-42e3-b132-1dae9ec7f5e3",
   "metadata": {},
   "outputs": [],
   "source": [
    "Q1. Write a Python function that takes in two arrays of data and calculates the F-value for a variance ratio\n",
    "test. The function should return the F-value and the corresponding p-value for the test."
   ]
  },
  {
   "cell_type": "code",
   "execution_count": 2,
   "id": "59eec592-5896-4357-af55-8f38ed7365c5",
   "metadata": {},
   "outputs": [
    {
     "name": "stdout",
     "output_type": "stream",
     "text": [
      "F-value: 1.0\n",
      "p-value: 1.0\n"
     ]
    }
   ],
   "source": [
    "import numpy as np\n",
    "from scipy.stats import f\n",
    "\n",
    "def variance_ratio_test(data1, data2):\n",
    "    var1 = np.var(data1) \n",
    "    var2 = np.var(data2)  \n",
    "    F_value = var1 / var2\n",
    "    df1 = len(data1) - 1\n",
    "    df2 = len(data2) - 1\n",
    "    p_value = 1 - f.cdf(F_value, df1, df2)\n",
    "    p_value = min(p_value, 1 - p_value) * 2\n",
    "    return F_value, p_value\n",
    "data1 = [10, 20, 30, 40, 50]\n",
    "data2 = [15, 25, 35, 45, 55]\n",
    "F_value, p_value = variance_ratio_test(data1, data2)\n",
    "print(\"F-value:\", F_value)\n",
    "print(\"p-value:\", p_value)\n"
   ]
  },
  {
   "cell_type": "code",
   "execution_count": null,
   "id": "703be61a-341a-4a1e-9fda-247d74d379c5",
   "metadata": {},
   "outputs": [],
   "source": [
    "Q2. Given a significance level of 0.05 and the degrees of freedom for the numerator and denominator of an\n",
    "F-distribution, write a Python function that returns the critical F-value for a two-tailed test."
   ]
  },
  {
   "cell_type": "code",
   "execution_count": null,
   "id": "e7847e36-60b7-4d49-8fcb-14da05490666",
   "metadata": {},
   "outputs": [],
   "source": [
    "import scipy.stats as stats\n",
    "\n",
    "def critical_f_value_two_tailed(alpha, dfn, dfd):\n",
    "    alpha_two_tailed = alpha / 2\n",
    "    f_critical_low = stats.f.ppf(alpha_two_tailed, dfn, dfd)\n",
    "    f_critical_high = stats.f.ppf(1 - alpha_two_tailed, dfn, dfd)\n",
    "\n",
    "    return f_critical_low, f_critical_high\n",
    "alpha = 0.05\n",
    "dfn = 5 \n",
    "dfd = 10 \n",
    "f_critical_low, f_critical_high = critical_f_value_two_tailed(alpha, dfn, dfd)\n",
    "print(f\"Critical F-value for lower tail: {f_critical_low}\")\n",
    "print(f\"Critical F-value for upper tail: {f_critical_high}\")\n"
   ]
  },
  {
   "cell_type": "code",
   "execution_count": null,
   "id": "3c5dda2c-1e45-476a-acc6-7305fd9353d1",
   "metadata": {},
   "outputs": [],
   "source": [
    "Q3. Write a Python program that generates random samples from two normal distributions with known\n",
    "variances and uses an F-test to determine if the variances are equal. The program should output the F-\n",
    "value, degrees of freedom, and p-value for the test."
   ]
  },
  {
   "cell_type": "code",
   "execution_count": null,
   "id": "32e758ef-180e-429c-b164-9d5ab67dca2b",
   "metadata": {},
   "outputs": [],
   "source": [
    "import numpy as np\n",
    "import scipy.stats as stats\n",
    "\n",
    "def generate_samples(var1, var2, n1, n2, mean1=0, mean2=0):\n",
    "    sample1 = np.random.normal(mean1, np.sqrt(var1), n1)\n",
    "    sample2 = np.random.normal(mean2, np.sqrt(var2), n2)\n",
    "    return sample1, sample2\n",
    "\n",
    "def f_test(sample1, sample2):\n",
    "    var1 = np.var(sample1, ddof=1)\n",
    "    var2 = np.var(sample2, ddof=1)\n",
    "    F = var1 / var2 if var1 > var2 else var2 / var1\n",
    "    dfn = len(sample1) - 1\n",
    "    dfd = len(sample2) - 1\n",
    "    p_value = 2 * (1 - stats.f.cdf(F, dfn, dfd)) if var1 > var2 else 2 * stats.f.cdf(F, dfn, dfd)\n",
    "    return F, dfn, dfd, p_value\n",
    "\n",
    "var1 = 10\n",
    "var2 = 15\n",
    "n1 = 12\n",
    "n2 = 12\n",
    "\n",
    "sample1, sample2 = generate_samples(var1, var2, n1, n2)\n",
    "F, dfn, dfd, p_value = f_test(sample1, sample2)\n",
    "\n",
    "print(f\"F-value: {F}\")\n",
    "print(f\"Degrees of freedom: {dfn}, {dfd}\")\n",
    "print(f\"P-value: {p_value}\")\n"
   ]
  },
  {
   "cell_type": "code",
   "execution_count": null,
   "id": "ab05ac76-fe8d-4606-a008-09248a1e55f0",
   "metadata": {},
   "outputs": [],
   "source": [
    "Q4.The variances of two populations are known to be 10 and 15. A sample of 12 observations is taken from\n",
    "each population. Conduct an F-test at the 5% significance level to determine if the variances are\n",
    "significantly different."
   ]
  },
  {
   "cell_type": "code",
   "execution_count": 14,
   "id": "af626cff-ca88-4997-b895-c3a71c343f07",
   "metadata": {},
   "outputs": [
    {
     "name": "stdout",
     "output_type": "stream",
     "text": [
      "Fail to reject the null hypothesis. The population variance are not equal\n"
     ]
    }
   ],
   "source": [
    "import scipy.stats as stats\n",
    "\n",
    "var1=10\n",
    "var2=15\n",
    "F=var1/var2\n",
    "n=12\n",
    "dfd=n-1\n",
    "dfn=dfd\n",
    "significance_level=0.05\n",
    "alpha2=significance_level/2\n",
    "F_critical_low = stats.f.ppf(alpha2, dfn, dfd)\n",
    "F_critical_high = stats.f.ppf(1 - alpha2, dfn, dfd)\n",
    "\n",
    "if F < F_critical_low or F > F_critical_high:\n",
    "    print(\"Reject the null hypothesis. The population variances are equal\")\n",
    "else:\n",
    "    print(\"Fail to reject the null hypothesis. The population variance are not equal\")"
   ]
  },
  {
   "cell_type": "code",
   "execution_count": null,
   "id": "ba74ad8c-0879-438c-b10a-516afde8c2ab",
   "metadata": {},
   "outputs": [],
   "source": [
    "Q5. A manufacturer claims that the variance of the diameter of a certain product is 0.005. A sample of 25\n",
    "products is taken, and the sample variance is found to be 0.006. Conduct an F-test at the 1% significance\n",
    "level to determine if the claim is justified."
   ]
  },
  {
   "cell_type": "code",
   "execution_count": null,
   "id": "6f54e5d4-036d-47d2-8f22-179a62a906d6",
   "metadata": {},
   "outputs": [],
   "source": [
    "import scipy.stats as stats\n",
    "import numpy as np\n",
    "def f_test_variance(sample_variance, claimed_variance, sample_size, alpha):\n",
    "    F = sample_variance / claimed_variance\n",
    "    dfn = sample_size - 1\n",
    "    dfd = dfn\n",
    "    alpha_two_tailed = alpha / 2\n",
    "    F_critical_low = stats.f.ppf(alpha_two_tailed, dfn, dfd)\n",
    "    F_critical_high = stats.f.ppf(1 - alpha_two_tailed, dfn, dfd)\n",
    "    \n",
    "    return F, F_critical_low, F_critical_high\n",
    "sample_variance = 0.006\n",
    "claimed_variance = 0.005\n",
    "sample_size = 25\n",
    "alpha = 0.01\n",
    "F, F_critical_low, F_critical_high = f_test_variance(sample_variance, claimed_variance, sample_size, alpha)\n",
    "print(f\"F statistic: {F}\")\n",
    "print(f\"Critical F-value for lower tail: {F_critical_low}\")\n",
    "print(f\"Critical F-value for upper tail: {F_critical_high}\")\n",
    "\n",
    "if F < F_critical_low or F > F_critical_high:\n",
    "    print(\"Reject the null hypothesis. The claim about the variance is not justified.\")\n",
    "else:\n",
    "    print(\"Fail to reject the null hypothesis. The claim about the variance is justified.\")\n"
   ]
  },
  {
   "cell_type": "code",
   "execution_count": null,
   "id": "eca7521e-7c81-4fb0-abab-c60fdee116a4",
   "metadata": {},
   "outputs": [],
   "source": [
    "Q6. Write a Python function that takes in the degrees of freedom for the numerator and denominator of an\n",
    "F-distribution and calculates the mean and variance of the distribution. The function should return the\n",
    "mean and variance as a tuple."
   ]
  },
  {
   "cell_type": "code",
   "execution_count": 3,
   "id": "a9251670-c494-4fcf-981d-10d6850f12af",
   "metadata": {},
   "outputs": [
    {
     "name": "stdout",
     "output_type": "stream",
     "text": [
      "Mean: 1.25\n",
      "Variance: 1.3541666666666667\n"
     ]
    }
   ],
   "source": [
    "def f_distribution_mean_variance(dfn, dfd):\n",
    "    if dfd <= 2:\n",
    "        mean = float('inf') \n",
    "    else:\n",
    "        mean = dfd / (dfd - 2)\n",
    "    \n",
    "    if dfd <= 4:\n",
    "        variance = float('inf')  \n",
    "    else:\n",
    "        variance = (2 * (dfd**2) * (dfn + dfd - 2)) / (dfn * (dfd - 2)**2 * (dfd - 4))\n",
    "    return mean, variance\n",
    "dfn = 5  \n",
    "dfd = 10 \n",
    "mean, variance = f_distribution_mean_variance(dfn, dfd)\n",
    "print(f\"Mean: {mean}\")\n",
    "print(f\"Variance: {variance}\")\n"
   ]
  },
  {
   "cell_type": "code",
   "execution_count": null,
   "id": "6266d853-9bee-4e85-96ed-a3bc17958d34",
   "metadata": {},
   "outputs": [],
   "source": [
    "Q7. A random sample of 10 measurements is taken from a normal population with unknown variance. The\n",
    "sample variance is found to be 25. Another random sample of 15 measurements is taken from another\n",
    "normal population with unknown variance, and the sample variance is found to be 20. Conduct an F-test\n",
    "at the 10% significance level to determine if the variances are significantly different."
   ]
  },
  {
   "cell_type": "code",
   "execution_count": 15,
   "id": "69c4316a-3708-4b5a-b2c6-16fa8b7ec04a",
   "metadata": {},
   "outputs": [
    {
     "name": "stdout",
     "output_type": "stream",
     "text": [
      "Fail to reject the null hypothesis. the variances are not significantly different\n"
     ]
    }
   ],
   "source": [
    "import scipy.stats as stats\n",
    "import numpy as np\n",
    "n1=10\n",
    "n2=15\n",
    "var1=25\n",
    "var2=20\n",
    "F=var1/var2\n",
    "df1=n1-1\n",
    "df2=n2-1\n",
    "alpha = 0.1\n",
    "alpha_two_tailed = alpha / 2\n",
    "F_critical_low = stats.f.ppf(alpha_two_tailed, dfn=df1, dfd=df2)\n",
    "F_critical_high = stats.f.ppf(1 - alpha_two_tailed, dfn=df1, dfd=df2)\n",
    "\n",
    "if F < F_critical_low or F > F_critical_high:\n",
    "    print(\"Reject the null hypothesis. the variances are significance different\")\n",
    "else:\n",
    "    print(\"Fail to reject the null hypothesis. the variances are not significantly different\")"
   ]
  },
  {
   "cell_type": "code",
   "execution_count": null,
   "id": "bf239170-b8f3-4d00-8873-74c57c05e32a",
   "metadata": {},
   "outputs": [],
   "source": [
    "Q8. The following data represent the waiting times in minutes at two different restaurants on a Saturday\n",
    "night: Restaurant A: 24, 25, 28, 23, 22, 20, 27; Restaurant B: 31, 33, 35, 30, 32, 36. Conduct an F-test at the 5%\n",
    "significance level to determine if the variances are significantly different."
   ]
  },
  {
   "cell_type": "code",
   "execution_count": null,
   "id": "a92a7e2e-81a5-440f-ae0d-6cfc69d3349d",
   "metadata": {},
   "outputs": [],
   "source": [
    "import numpy as np\n",
    "import scipy.stats as stats\n",
    "restaurant_A = [24, 25, 28, 23, 22, 20, 27]\n",
    "restaurant_B = [31, 33, 35, 30, 32, 36]\n",
    "var_A = np.var(restaurant_A)\n",
    "var_B = np.var(restaurant_B)\n",
    "\n",
    "F = var_A / var_B if var_A > var_B else var_B / var_A\n",
    "dfn = len(restaurant_A) - 1\n",
    "dfd = len(restaurant_B) - 1\n",
    "alpha_two_tailed = alpha / 2\n",
    "F_critical_low = stats.f.ppf(alpha_two_tailed, dfn, dfd)\n",
    "F_critical_high = stats.f.ppf(1 - alpha_two_tailed, dfn, dfd)\n",
    "\n",
    "p_value = 2 * min(stats.f.cdf(F, dfn, dfd), 1 - stats.f.cdf(F, dfn, dfd))\n",
    "\n",
    "if F < F_critical_low or F > F_critical_high:\n",
    "    print(\"Reject the null hypothesis. The variances are significantly different.\")\n",
    "else:\n",
    "    print(\"Fail to reject the null hypothesis. The variances are not significantly different.\")\n"
   ]
  },
  {
   "cell_type": "code",
   "execution_count": null,
   "id": "5ab97dda-5b08-405c-abd8-42ef4ffdd15d",
   "metadata": {},
   "outputs": [],
   "source": [
    "Q9. The following data represent the test scores of two groups of students: Group A: 80, 85, 90, 92, 87, 83;\n",
    "Group B: 75, 78, 82, 79, 81, 84. Conduct an F-test at the 1% significance level to determine if the variances\n",
    "are significantly different."
   ]
  },
  {
   "cell_type": "code",
   "execution_count": 16,
   "id": "8b449f4a-7727-47fb-a6f4-e2047e216b45",
   "metadata": {},
   "outputs": [
    {
     "name": "stdout",
     "output_type": "stream",
     "text": [
      "Fail to reject the null hypothesis. The variances are not significantly different.\n"
     ]
    }
   ],
   "source": [
    "import numpy as np\n",
    "import scipy.stats as stats\n",
    "group_A = [80, 85, 90, 92, 87, 83]\n",
    "group_B = [75, 78, 82, 79, 81, 84]\n",
    "var_A = np.var(group_A)\n",
    "var_B = np.var(group_B)\n",
    "\n",
    "F = var_A / var_B if var_A > var_B else var_B / var_A\n",
    "dfn = len(group_A) - 1\n",
    "dfd = len(group_B) - 1\n",
    "alpha = 0.01\n",
    "alpha_two_tailed = alpha / 2\n",
    "F_critical_low = stats.f.ppf(alpha_two_tailed, dfn, dfd)\n",
    "F_critical_high = stats.f.ppf(1 - alpha_two_tailed, dfn, dfd)\n",
    "\n",
    "p_value = 2 * min(stats.f.cdf(F, dfn, dfd), 1 - stats.f.cdf(F, dfn, dfd))\n",
    "\n",
    "if F < F_critical_low or F > F_critical_high:\n",
    "    print(\"Reject the null hypothesis. The variances are significantly different.\")\n",
    "else:\n",
    "    print(\"Fail to reject the null hypothesis. The variances are not significantly different.\")\n"
   ]
  },
  {
   "cell_type": "code",
   "execution_count": null,
   "id": "a47638c4-1e25-44d8-be42-f694adf01452",
   "metadata": {},
   "outputs": [],
   "source": []
  }
 ],
 "metadata": {
  "kernelspec": {
   "display_name": "Python 3 (ipykernel)",
   "language": "python",
   "name": "python3"
  },
  "language_info": {
   "codemirror_mode": {
    "name": "ipython",
    "version": 3
   },
   "file_extension": ".py",
   "mimetype": "text/x-python",
   "name": "python",
   "nbconvert_exporter": "python",
   "pygments_lexer": "ipython3",
   "version": "3.10.8"
  }
 },
 "nbformat": 4,
 "nbformat_minor": 5
}
